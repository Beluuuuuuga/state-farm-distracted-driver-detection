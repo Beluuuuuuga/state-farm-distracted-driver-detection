{
 "cells": [
  {
   "cell_type": "code",
   "execution_count": 1,
   "metadata": {},
   "outputs": [],
   "source": [
    "import pandas as pd"
   ]
  },
  {
   "cell_type": "code",
   "execution_count": 4,
   "metadata": {},
   "outputs": [],
   "source": [
    "df = pd.read_csv(\"../data/input/csvs/train.csv\")\n",
    "driver = pd.read_csv(\"../data/input/csvs/driver_imgs_list.csv\")"
   ]
  },
  {
   "cell_type": "code",
   "execution_count": 3,
   "metadata": {},
   "outputs": [
    {
     "data": {
      "text/html": [
       "<div>\n",
       "<style scoped>\n",
       "    .dataframe tbody tr th:only-of-type {\n",
       "        vertical-align: middle;\n",
       "    }\n",
       "\n",
       "    .dataframe tbody tr th {\n",
       "        vertical-align: top;\n",
       "    }\n",
       "\n",
       "    .dataframe thead th {\n",
       "        text-align: right;\n",
       "    }\n",
       "</style>\n",
       "<table border=\"1\" class=\"dataframe\">\n",
       "  <thead>\n",
       "    <tr style=\"text-align: right;\">\n",
       "      <th></th>\n",
       "      <th>image</th>\n",
       "      <th>label</th>\n",
       "    </tr>\n",
       "  </thead>\n",
       "  <tbody>\n",
       "    <tr>\n",
       "      <th>0</th>\n",
       "      <td>img_100026.jpg</td>\n",
       "      <td>0</td>\n",
       "    </tr>\n",
       "    <tr>\n",
       "      <th>1</th>\n",
       "      <td>img_10003.jpg</td>\n",
       "      <td>0</td>\n",
       "    </tr>\n",
       "    <tr>\n",
       "      <th>2</th>\n",
       "      <td>img_100050.jpg</td>\n",
       "      <td>0</td>\n",
       "    </tr>\n",
       "    <tr>\n",
       "      <th>3</th>\n",
       "      <td>img_100074.jpg</td>\n",
       "      <td>0</td>\n",
       "    </tr>\n",
       "    <tr>\n",
       "      <th>4</th>\n",
       "      <td>img_10012.jpg</td>\n",
       "      <td>0</td>\n",
       "    </tr>\n",
       "    <tr>\n",
       "      <th>...</th>\n",
       "      <td>...</td>\n",
       "      <td>...</td>\n",
       "    </tr>\n",
       "    <tr>\n",
       "      <th>22419</th>\n",
       "      <td>img_99761.jpg</td>\n",
       "      <td>9</td>\n",
       "    </tr>\n",
       "    <tr>\n",
       "      <th>22420</th>\n",
       "      <td>img_99801.jpg</td>\n",
       "      <td>9</td>\n",
       "    </tr>\n",
       "    <tr>\n",
       "      <th>22421</th>\n",
       "      <td>img_99927.jpg</td>\n",
       "      <td>9</td>\n",
       "    </tr>\n",
       "    <tr>\n",
       "      <th>22422</th>\n",
       "      <td>img_9993.jpg</td>\n",
       "      <td>9</td>\n",
       "    </tr>\n",
       "    <tr>\n",
       "      <th>22423</th>\n",
       "      <td>img_99949.jpg</td>\n",
       "      <td>9</td>\n",
       "    </tr>\n",
       "  </tbody>\n",
       "</table>\n",
       "<p>22424 rows × 2 columns</p>\n",
       "</div>"
      ],
      "text/plain": [
       "                image  label\n",
       "0      img_100026.jpg      0\n",
       "1       img_10003.jpg      0\n",
       "2      img_100050.jpg      0\n",
       "3      img_100074.jpg      0\n",
       "4       img_10012.jpg      0\n",
       "...               ...    ...\n",
       "22419   img_99761.jpg      9\n",
       "22420   img_99801.jpg      9\n",
       "22421   img_99927.jpg      9\n",
       "22422    img_9993.jpg      9\n",
       "22423   img_99949.jpg      9\n",
       "\n",
       "[22424 rows x 2 columns]"
      ]
     },
     "execution_count": 3,
     "metadata": {},
     "output_type": "execute_result"
    }
   ],
   "source": [
    "df"
   ]
  },
  {
   "cell_type": "code",
   "execution_count": 6,
   "metadata": {},
   "outputs": [
    {
     "data": {
      "text/plain": [
       "26"
      ]
     },
     "execution_count": 6,
     "metadata": {},
     "output_type": "execute_result"
    }
   ],
   "source": [
    "driver.subject.nunique()"
   ]
  },
  {
   "cell_type": "code",
   "execution_count": null,
   "metadata": {},
   "outputs": [],
   "source": [
    "driver.subject.nunique()"
   ]
  },
  {
   "cell_type": "code",
   "execution_count": 13,
   "metadata": {
    "collapsed": true
   },
   "outputs": [
    {
     "data": {
      "text/plain": [
       "subject\n",
       "p002     725\n",
       "p012     823\n",
       "p014     876\n",
       "p015     875\n",
       "p016    1078\n",
       "p021    1237\n",
       "p022    1233\n",
       "p024    1226\n",
       "p026    1196\n",
       "p035     848\n",
       "p039     651\n",
       "p041     605\n",
       "p042     591\n",
       "p045     724\n",
       "p047     835\n",
       "p049    1011\n",
       "p050     790\n",
       "p051     920\n",
       "p052     740\n",
       "p056     794\n",
       "p061     809\n",
       "p064     820\n",
       "p066    1034\n",
       "p072     346\n",
       "p075     814\n",
       "p081     823\n",
       "dtype: int64"
      ]
     },
     "execution_count": 13,
     "metadata": {},
     "output_type": "execute_result"
    }
   ],
   "source": [
    "driver.groupby(\"subject\").size()"
   ]
  },
  {
   "cell_type": "code",
   "execution_count": 57,
   "metadata": {},
   "outputs": [],
   "source": [
    "# p002\n",
    "# print(\"p002\",driver[driver.subject=='p002'].groupby(\"classname\").size())\n",
    "\n",
    "def print_classname_size(driver_name):\n",
    "    print(f\"Driver name: {driver_name}\\n\")\n",
    "#     print(driver[driver.subject==driver_name][\"\"])\n",
    "    driverrows = driver[driver.subject==driver_name]\n",
    "    sumrows = len(driverrows)\n",
    "    classnames = driver[driver.subject==driver_name][\"classname\"].unique()\n",
    "    print(f\"->Sum rows per a driver: {sumrows}\")\n",
    "    print(driver[driver.subject==driver_name].groupby(\"classname\").size())\n",
    "    print()\n",
    "    for classname in classnames:\n",
    "        print(f\"{classname} ratio: {round((len(driverrows[driverrows.classname==classname])/sumrows)*100,1)}%\")\n",
    "    "
   ]
  },
  {
   "cell_type": "code",
   "execution_count": 58,
   "metadata": {},
   "outputs": [
    {
     "name": "stdout",
     "output_type": "stream",
     "text": [
      "Driver name: p002\n",
      "\n",
      "->Sum rows per a driver: 725\n",
      "classname\n",
      "c0    76\n",
      "c1    74\n",
      "c2    86\n",
      "c3    79\n",
      "c4    84\n",
      "c5    76\n",
      "c6    83\n",
      "c7    72\n",
      "c8    44\n",
      "c9    51\n",
      "dtype: int64\n",
      "\n",
      "c0 ratio: 10.5%\n",
      "c1 ratio: 10.2%\n",
      "c2 ratio: 11.9%\n",
      "c3 ratio: 10.9%\n",
      "c4 ratio: 11.6%\n",
      "c5 ratio: 10.5%\n",
      "c6 ratio: 11.4%\n",
      "c7 ratio: 9.9%\n",
      "c8 ratio: 6.1%\n",
      "c9 ratio: 7.0%\n"
     ]
    }
   ],
   "source": [
    "print_classname_size(\"p002\")"
   ]
  },
  {
   "cell_type": "code",
   "execution_count": 19,
   "metadata": {},
   "outputs": [],
   "source": [
    "drivers = driver.subject.unique()"
   ]
  },
  {
   "cell_type": "code",
   "execution_count": null,
   "metadata": {},
   "outputs": [],
   "source": []
  }
 ],
 "metadata": {
  "kernelspec": {
   "display_name": "Python 3",
   "language": "python",
   "name": "python3"
  },
  "language_info": {
   "codemirror_mode": {
    "name": "ipython",
    "version": 3
   },
   "file_extension": ".py",
   "mimetype": "text/x-python",
   "name": "python",
   "nbconvert_exporter": "python",
   "pygments_lexer": "ipython3",
   "version": "3.7.9"
  }
 },
 "nbformat": 4,
 "nbformat_minor": 4
}
