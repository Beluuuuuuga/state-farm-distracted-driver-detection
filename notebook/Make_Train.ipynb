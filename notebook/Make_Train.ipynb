{
 "cells": [
  {
   "cell_type": "markdown",
   "id": "legal-runner",
   "metadata": {},
   "source": [
    "## 学習CSV作成"
   ]
  },
  {
   "cell_type": "code",
   "execution_count": 2,
   "id": "incorrect-gather",
   "metadata": {},
   "outputs": [],
   "source": [
    "import glob\n",
    "\n",
    "import pandas as pd"
   ]
  },
  {
   "cell_type": "code",
   "execution_count": 11,
   "id": "binary-salad",
   "metadata": {},
   "outputs": [],
   "source": [
    "images = []\n",
    "labels = []\n",
    "\n",
    "def make_csv(label):\n",
    "    path = \"../state-farm-distracted-driver-detection/imgs/train/\" + label + \"/*.jpg\"\n",
    "    for f in glob.glob(path):\n",
    "        img = f.split(\"\\\\\")[-1]\n",
    "        images.append(img)\n",
    "        labels.append(label[1:]) # c0->0\n",
    "\n",
    "make_csv(\"c0\")\n",
    "make_csv(\"c1\")\n",
    "make_csv(\"c2\")\n",
    "make_csv(\"c3\")\n",
    "make_csv(\"c4\")\n",
    "make_csv(\"c5\")\n",
    "make_csv(\"c6\")\n",
    "make_csv(\"c7\")\n",
    "make_csv(\"c8\")\n",
    "make_csv(\"c9\")"
   ]
  },
  {
   "cell_type": "code",
   "execution_count": 12,
   "id": "oriental-capability",
   "metadata": {},
   "outputs": [
    {
     "name": "stdout",
     "output_type": "stream",
     "text": [
      "22424\n",
      "22424\n"
     ]
    }
   ],
   "source": [
    "print(len(images))\n",
    "print(len(labels))"
   ]
  },
  {
   "cell_type": "code",
   "execution_count": 13,
   "id": "capital-cholesterol",
   "metadata": {},
   "outputs": [],
   "source": [
    "train = pd.DataFrame(columns=[\"image\", \"label\"])\n",
    "train[\"image\"] = images\n",
    "train[\"label\"] = labels"
   ]
  },
  {
   "cell_type": "code",
   "execution_count": 15,
   "id": "abroad-debut",
   "metadata": {},
   "outputs": [],
   "source": [
    "# csv書き出し\n",
    "train.to_csv(\"../state-farm-distracted-driver-detection/train.csv\", index=False)"
   ]
  }
 ],
 "metadata": {
  "kernelspec": {
   "display_name": "Python 3",
   "language": "python",
   "name": "python3"
  },
  "language_info": {
   "codemirror_mode": {
    "name": "ipython",
    "version": 3
   },
   "file_extension": ".py",
   "mimetype": "text/x-python",
   "name": "python",
   "nbconvert_exporter": "python",
   "pygments_lexer": "ipython3",
   "version": "3.8.8"
  }
 },
 "nbformat": 4,
 "nbformat_minor": 5
}
